{
 "cells": [
  {
   "cell_type": "code",
   "execution_count": 37,
   "metadata": {},
   "outputs": [],
   "source": [
    "import numpy as np\n",
    "import pandas as pd\n",
    "from matplotlib import pyplot as plt\n",
    "import torch\n",
    "import os\n",
    "import re\n",
    "from PyPDF2 import PdfReader\n",
    "from transformers import AutoModel, AutoTokenizer"
   ]
  },
  {
   "cell_type": "code",
   "execution_count": 2,
   "metadata": {},
   "outputs": [],
   "source": [
    "# model_name = 'DeepPavlov/rubert-base-cased-sentence'\n",
    "model_name = 'DeepPavlov/bert-base-multilingual-cased-sentence'\n",
    "# model_name = 'DeepPavlov/distilrubert-small-cased-conversational'\n",
    "# model_name = 'DeepPavlov/distilrubert-tiny-cased-conversational'\n",
    "model = AutoModel.from_pretrained(model_name)\n",
    "tokenizer = AutoTokenizer.from_pretrained(model_name)"
   ]
  },
  {
   "cell_type": "code",
   "execution_count": 4,
   "metadata": {},
   "outputs": [],
   "source": [
    "length_thr = 100\n",
    "device = torch.device(0)\n",
    "# device = 'cpu'\n",
    "encode_kwargs = {'truncation': True, 'padding': 'max_length', 'pad_to_multiple_of': 1, 'max_length':512}"
   ]
  },
  {
   "cell_type": "code",
   "execution_count": 56,
   "metadata": {},
   "outputs": [],
   "source": [
    "def get_abstract(text):\n",
    "    if ('abstract' in text.lower()) and ('ntroduction' in text.lower()):\n",
    "        start_pos = text.lower().index('abstract') + len('abstract')\n",
    "        end_pos = text.lower().index('ntroduction') - 1\n",
    "        abstract = text[start_pos: end_pos]\n",
    "    else:\n",
    "        abstract = text\n",
    "\n",
    "    abstract = re.sub('-\\n', '', abstract)\n",
    "    abstract = re.sub('\\n', ' ', abstract)\n",
    "    return abstract"
   ]
  },
  {
   "cell_type": "code",
   "execution_count": 101,
   "metadata": {},
   "outputs": [],
   "source": [
    "db_path = '/home/booydar/Documents/Sync/zotero/storage/'\n",
    "path = db_path\n",
    "def parse_storage(path):\n",
    "\n",
    "    db_df = pd.DataFrame()\n",
    "    path, folders, files = next(os.walk(path))\n",
    "    for f in folders:\n",
    "        f_path = os.path.join(path, f)\n",
    "        path_, folders_, files_ = next(os.walk(f_path))\n",
    "        pdfs = [n for n in files_ if '.pdf' in n]\n",
    "        if not pdfs:\n",
    "            continue\n",
    "        paper = pdfs[0]\n",
    "        paper_path = os.path.join(f_path, paper)\n",
    "        reader = PdfReader(paper_path)\n",
    "        page = reader.pages[0]\n",
    "        first_page = page.extract_text()\n",
    "        abstract = get_abstract(first_page)\n",
    "\n",
    "        paper_dict = {'path': paper_path,\n",
    "                    'paper': paper,\n",
    "                    'name': re.sub(r'.*-* - ', '', paper)[:-4], \n",
    "                    'abstract': abstract}\n",
    "\n",
    "        db_df = pd.concat([db_df, pd.DataFrame(paper_dict, index=[0])])\n",
    "        \n",
    "    return db_df"
   ]
  },
  {
   "cell_type": "code",
   "execution_count": 118,
   "metadata": {},
   "outputs": [],
   "source": [
    "db_df = parse_storage(db_path)"
   ]
  },
  {
   "cell_type": "code",
   "execution_count": 119,
   "metadata": {},
   "outputs": [],
   "source": [
    "out_path = '/home/booydar/Documents/Sync/scientific_graph'\n",
    "\n",
    "for i, row in db_df.iterrows():\n",
    "    \n",
    "    note = ''\n",
    "    note += '#paper\\n---\\n\\n'\n",
    "    note += f\"##{row['name']}\\n\\n\"\n",
    "    note += f'{row.abstract}\\n\\n---\\n'\n",
    "\n",
    "    note_name = row.paper[:-4] + '.md'\n",
    "    op = os.path.join(out_path, note_name)\n",
    "\n",
    "    with open(op, 'w') as f:\n",
    "        f.write(note)"
   ]
  }
 ],
 "metadata": {
  "kernelspec": {
   "display_name": "Python 3.9.0 ('cudaenv')",
   "language": "python",
   "name": "python3"
  },
  "language_info": {
   "codemirror_mode": {
    "name": "ipython",
    "version": 3
   },
   "file_extension": ".py",
   "mimetype": "text/x-python",
   "name": "python",
   "nbconvert_exporter": "python",
   "pygments_lexer": "ipython3",
   "version": "3.9.0"
  },
  "orig_nbformat": 4,
  "vscode": {
   "interpreter": {
    "hash": "c13243d513f3ec5f72a4e7429086ed10f2270caad452cf1f965679cad914ac74"
   }
  }
 },
 "nbformat": 4,
 "nbformat_minor": 2
}
