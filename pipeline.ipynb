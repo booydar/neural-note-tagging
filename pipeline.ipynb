{
 "cells": [
  {
   "cell_type": "code",
   "execution_count": 4,
   "metadata": {},
   "outputs": [],
   "source": [
    "import numpy as np\n",
    "import pandas as pd\n",
    "from matplotlib import pyplot as plt\n",
    "import torch\n",
    "import os\n",
    "import re\n",
    "from transformers import AutoModel, AutoTokenizer"
   ]
  },
  {
   "cell_type": "code",
   "execution_count": 5,
   "metadata": {},
   "outputs": [],
   "source": [
    "# model_name = 'DeepPavlov/rubert-base-cased-sentence'\n",
    "model_name = 'DeepPavlov/bert-base-multilingual-cased-sentence'\n",
    "# model_name = 'DeepPavlov/distilrubert-small-cased-conversational'\n",
    "# model_name = 'DeepPavlov/distilrubert-tiny-cased-conversational'\n",
    "model = AutoModel.from_pretrained(model_name)\n",
    "tokenizer = AutoTokenizer.from_pretrained(model_name)"
   ]
  },
  {
   "cell_type": "code",
   "execution_count": 6,
   "metadata": {},
   "outputs": [],
   "source": [
    "def get_first_header(note):\n",
    "    if '## ' in note:\n",
    "        first_header_prefix = '## '\n",
    "        if '### ' in note:\n",
    "            first_header_prefix = '### '\n",
    "\n",
    "        first_header = note.split(first_header_prefix)[1].split('\\n')[0]\n",
    "    else:\n",
    "        first_header = ''\n",
    "\n",
    "    return first_header\n",
    "\n",
    "def clean(note):\n",
    "    # remove zero-links\n",
    "    note = re.sub(r'\\[.*\\]', '', note)\n",
    "\n",
    "    # remove tags and headers\n",
    "    note = re.sub(r'\\#.*\\n', '', note)\n",
    "\n",
    "    # remove \\n\n",
    "    note = re.sub('\\n', ' ', note)\n",
    "\n",
    "    # remove lines\n",
    "    note = re.sub('---', ' ', note)\n",
    "\n",
    "    # remove **\n",
    "    note = re.sub('\\*', '', note)\n",
    "    \n",
    "    return note\n",
    "\n",
    "def num_letters(note):\n",
    "    return len(re.sub(r'[^а-яА-Яa-zA-Z]', '', note))"
   ]
  },
  {
   "cell_type": "code",
   "execution_count": 7,
   "metadata": {},
   "outputs": [],
   "source": [
    "length_thr = 100\n",
    "device = torch.device(0)\n",
    "# device = 'cpu'\n",
    "encode_kwargs = {'truncation': True, 'padding': 'max_length', 'pad_to_multiple_of': 1, 'max_length':512}"
   ]
  },
  {
   "cell_type": "code",
   "execution_count": 8,
   "metadata": {},
   "outputs": [],
   "source": [
    "db_path = '/home/booydar/Documents/Sync/obsidian-db/'\n",
    "\n",
    "\n",
    "def parse_folder(path):\n",
    "    # print(f'Parsing {path}')\n",
    "\n",
    "    path, folders, files = next(os.walk(path))\n",
    "\n",
    "    db_df = pd.DataFrame()\n",
    "    if len(folders) > 0:\n",
    "        for f in folders:\n",
    "            folder_path = os.path.join(path, f)\n",
    "            f_res_df = parse_folder(folder_path)\n",
    "            db_df = pd.concat([db_df, f_res_df])\n",
    "\n",
    "    for fn in files:\n",
    "        if '.md' not in fn:\n",
    "            continue\n",
    "\n",
    "        filepath = os.path.join(path, fn)\n",
    "        with open(filepath, 'r') as f:\n",
    "            note = f.read()\n",
    "\n",
    "        if num_letters(note) < length_thr:\n",
    "            continue\n",
    "\n",
    "        header = get_first_header(note)\n",
    "        if not header: \n",
    "            header = fn[:-3]\n",
    "\n",
    "        cleaned_note = clean(note)\n",
    "        \n",
    "        tokenized_header = tokenizer.encode(header, **encode_kwargs)\n",
    "        tokenized_note = tokenizer.encode(cleaned_note, **encode_kwargs)\n",
    "\n",
    "        note_dict = {'name': fn, 'path':filepath, 'header': header, 'note': cleaned_note, 'tokenized_header':[tokenized_header], 'tokenized_note':[tokenized_note], 'raw_note':[note]}\n",
    "\n",
    "        db_df = pd.concat([db_df, pd.DataFrame(note_dict)])\n",
    "    \n",
    "    return db_df\n",
    "\n",
    "def process_by_batch(model, tensor, batch_size = 2):\n",
    "    n_chunks = tensor.shape[0] // batch_size\n",
    "    chunked = torch.chunk(tensor, n_chunks)\n",
    "\n",
    "    outputs = []\n",
    "    for batch in chunked:\n",
    "        out = model(batch.to(device)).last_hidden_state\n",
    "        outputs.append(out.cpu().detach())\n",
    "    return torch.cat(outputs)"
   ]
  },
  {
   "cell_type": "code",
   "execution_count": 9,
   "metadata": {},
   "outputs": [],
   "source": [
    "db_df = parse_folder(db_path)"
   ]
  },
  {
   "cell_type": "markdown",
   "metadata": {},
   "source": [
    "### Add PDF reader"
   ]
  },
  {
   "cell_type": "code",
   "execution_count": 16,
   "metadata": {},
   "outputs": [],
   "source": [
    "pdf_path = \"/home/booydar/Documents/Sync/obsidian-db/papers_labpc/2DZP8PT7/Zhang et al. - 2019 - ERNIE Enhanced Language Representation with Infor.pdf\"\n",
    "from PyPDF2 import PdfReader\n",
    "\n",
    "reader = PdfReader(pdf_path)\n",
    "text = \"\"\n",
    "for page in reader.pages:\n",
    "    text += page.extract_text() + \"\\n\"\n"
   ]
  },
  {
   "cell_type": "code",
   "execution_count": 19,
   "metadata": {},
   "outputs": [],
   "source": [
    "# print(text[:2500])"
   ]
  },
  {
   "cell_type": "code",
   "execution_count": 10,
   "metadata": {},
   "outputs": [],
   "source": [
    "batch_size = 2\n",
    "num_notes = db_df.shape[0]\n",
    "\n",
    "model.to(device)\n",
    "tokenized_headers = torch.Tensor(np.vstack(db_df.tokenized_header.values)).long()#.to(device)\n",
    "tokenized_notes = torch.Tensor(np.vstack(db_df.tokenized_note.values)).long()#.to(device)\n",
    "\n",
    "vectorized_headers = process_by_batch(model, tokenized_headers, batch_size)\n",
    "vectorized_notes = process_by_batch(model, tokenized_notes, batch_size)\n",
    "\n",
    "### average of sequence outputs as ambedding\n",
    "header_embeddings = vectorized_headers.mean(dim=-2)\n",
    "note_embeddings = vectorized_notes.mean(dim=-2)"
   ]
  },
  {
   "cell_type": "markdown",
   "metadata": {},
   "source": [
    "### KMeans"
   ]
  },
  {
   "cell_type": "code",
   "execution_count": 11,
   "metadata": {},
   "outputs": [],
   "source": [
    "from sklearn.cluster import KMeans, AgglomerativeClustering\n",
    "from sklearn.metrics import silhouette_score"
   ]
  },
  {
   "cell_type": "code",
   "execution_count": 22,
   "metadata": {},
   "outputs": [
    {
     "name": "stderr",
     "output_type": "stream",
     "text": [
      "/home/booydar/anaconda3/envs/cudaenv/lib/python3.9/site-packages/sklearn/cluster/_kmeans.py:996: ConvergenceWarning: Number of distinct clusters (51) found smaller than n_clusters (52). Possibly due to duplicate points in X.\n",
      "  return self.fit(X, sample_weight=sample_weight).labels_\n"
     ]
    }
   ],
   "source": [
    "metric = 'cosine'\n",
    "min_n_clust, max_n_clust = 2, num_notes\n",
    "header_silhouettes, note_silhouettes = [], []\n",
    "for n_clust in range(min_n_clust, max_n_clust):\n",
    "    cluster = KMeans(n_clusters=n_clust)#, affinity=metric)\n",
    "    header_clusters = cluster.fit_predict(header_embeddings)\n",
    "    note_clusters = cluster.fit_predict(note_embeddings)\n",
    "\n",
    "    header_silhouettes.append(silhouette_score(header_embeddings, header_clusters))\n",
    "    note_silhouettes.append(silhouette_score(note_embeddings, note_clusters))"
   ]
  },
  {
   "cell_type": "code",
   "execution_count": 10,
   "metadata": {},
   "outputs": [
    {
     "data": {
      "image/png": "[encoded data removed]",
      "text/plain": [
       "<Figure size 1152x576 with 1 Axes>"
      ]
     },
     "metadata": {
      "needs_background": "light"
     },
     "output_type": "display_data"
    }
   ],
   "source": [
    "plt.figure(figsize=(16,8))\n",
    "plt.title('Averaged token outputs as embedding')\n",
    "clusters = list(range(min_n_clust, max_n_clust))\n",
    "plt.plot(clusters, header_silhouettes)\n",
    "plt.plot(clusters, note_silhouettes)\n",
    "\n",
    "plt.legend(['headers', 'notes'])\n",
    "plt.xticks(clusters)\n",
    "plt.show()"
   ]
  },
  {
   "cell_type": "markdown",
   "metadata": {},
   "source": [
    "### add cluster labels to notes"
   ]
  },
  {
   "cell_type": "code",
   "execution_count": 121,
   "metadata": {},
   "outputs": [],
   "source": [
    "def add_tags(row):\n",
    "    note, note_cluster, header_cluster = row['raw_note'], row['note_cluster'], row['header_cluster']\n",
    "    if '---' not in note[-8:]:\n",
    "        note += '\\n\\n---'\n",
    "    cleaned_note = re.sub(r'\\n\\[\\[NN.*]]\\n---', '', note)\n",
    "\n",
    "    tag_pattern = f'\\n\\n[[NN #{note_cluster}]] [[NN ##{header_cluster}]]\\n\\n---'\n",
    "    filled_note = cleaned_note + tag_pattern    \n",
    "    return filled_note"
   ]
  },
  {
   "cell_type": "code",
   "execution_count": 122,
   "metadata": {},
   "outputs": [],
   "source": [
    "n_clust = 7\n",
    "# cluster = KMeans(n_clusters=n_clust)\n",
    "cluster = AgglomerativeClustering(n_clusters=n_clust)\n",
    "header_clusters = cluster.fit_predict(header_embeddings)\n",
    "headers = db_df.header.values"
   ]
  },
  {
   "cell_type": "code",
   "execution_count": 123,
   "metadata": {},
   "outputs": [],
   "source": [
    "n_clust = 7\n",
    "notes = db_df.note.values\n",
    "# cluster = KMeans(n_clusters=n_clust)\n",
    "cluster = AgglomerativeClustering(n_clusters=n_clust)\n",
    "note_clusters = cluster.fit_predict(note_embeddings)"
   ]
  },
  {
   "cell_type": "code",
   "execution_count": 124,
   "metadata": {},
   "outputs": [],
   "source": [
    "db_df['note_cluster'] = note_clusters\n",
    "db_df['header_cluster'] = header_clusters\n",
    "\n",
    "db_df['filled_note'] = db_df.apply(add_tags, axis=1)"
   ]
  },
  {
   "cell_type": "code",
   "execution_count": 125,
   "metadata": {},
   "outputs": [],
   "source": [
    "# print(db_df.filled_note.iloc[0])"
   ]
  },
  {
   "cell_type": "code",
   "execution_count": 126,
   "metadata": {},
   "outputs": [],
   "source": []
  },
  {
   "cell_type": "markdown",
   "metadata": {},
   "source": [
    "### Agglomerative"
   ]
  },
  {
   "cell_type": "code",
   "execution_count": 12,
   "metadata": {},
   "outputs": [],
   "source": [
    "metric = 'euclidean'\n",
    "min_n_clust, max_n_clust = 2, num_notes\n",
    "header_silhouettes, note_silhouettes = [], []\n",
    "for n_clust in range(min_n_clust, max_n_clust):\n",
    "    cluster = AgglomerativeClustering(n_clusters = n_clust, affinity=metric)\n",
    "    header_clusters = cluster.fit_predict(header_embeddings)\n",
    "    note_clusters = cluster.fit_predict(note_embeddings)\n",
    "\n",
    "    header_silhouettes.append(silhouette_score(header_embeddings, header_clusters))\n",
    "    note_silhouettes.append(silhouette_score(note_embeddings, note_clusters))"
   ]
  },
  {
   "cell_type": "code",
   "execution_count": 13,
   "metadata": {},
   "outputs": [
    {
     "data": {
      "image/png": "[encoded data removed]",
      "text/plain": [
       "<Figure size 1152x576 with 1 Axes>"
      ]
     },
     "metadata": {
      "needs_background": "light"
     },
     "output_type": "display_data"
    }
   ],
   "source": [
    "# average of sequence output as embedding\n",
    "plt.figure(figsize=(16,8))\n",
    "\n",
    "clusters = list(range(min_n_clust, max_n_clust))\n",
    "plt.plot(clusters, header_silhouettes)\n",
    "plt.plot(clusters, note_silhouettes)\n",
    "plt.legend(['headers', 'notes'])\n",
    "plt.xticks(clusters)\n",
    "plt.show()"
   ]
  },
  {
   "cell_type": "markdown",
   "metadata": {},
   "source": [
    "## recommendation\n"
   ]
  },
  {
   "cell_type": "code",
   "execution_count": 25,
   "metadata": {},
   "outputs": [],
   "source": [
    "n_clust = 3\n",
    "notes = db_df.note.values\n",
    "cluster = KMeans(n_clusters=n_clust)\n",
    "cluster = cluster.fit(note_embeddings)\n",
    "note_clusters = cluster.predict(note_embeddings)"
   ]
  },
  {
   "cell_type": "markdown",
   "metadata": {},
   "source": [
    "#### Find nearest cluster"
   ]
  },
  {
   "cell_type": "code",
   "execution_count": 41,
   "metadata": {},
   "outputs": [],
   "source": [
    "text = '00:36    еду в такси с дня рождения Дениса. странное ощущение  (Айдар с утра: чел ты вина напился просто)'\n",
    "tokenized_text = torch.Tensor([tokenizer.encode(text, **encode_kwargs)]).long().to(device)\n",
    "vectorized_text = process_by_batch(model, tokenized_text, batch_size=1)\n",
    "text_embedding = vectorized_text[:, 0, :].detach().numpy()\n",
    "cn = cluster.predict(text_embedding.astype(float))[0]\n",
    "recommended  = notes[note_clusters == cn]\n",
    "# recommended   \n"
   ]
  },
  {
   "cell_type": "markdown",
   "metadata": {},
   "source": [
    "#### get nearest samples"
   ]
  },
  {
   "cell_type": "code",
   "execution_count": 129,
   "metadata": {},
   "outputs": [],
   "source": [
    "from sklearn.metrics import pairwise_distances_argmin, pairwise_distances"
   ]
  },
  {
   "cell_type": "code",
   "execution_count": 130,
   "metadata": {},
   "outputs": [
    {
     "data": {
      "text/plain": [
       "array([' criteria 1) mft+ sized sensor? 2) has zoom or 16mp+ 3) fits in pocket or a small bag 4) attractive image 5) has raw 6) somewhat fast   - rx100m4+ Has really average photo quality but outstanding video  - a6300 Nice pics and vids but ugly (???) kit lens '],\n",
       "      dtype=object)"
      ]
     },
     "execution_count": 130,
     "metadata": {},
     "output_type": "execute_result"
    }
   ],
   "source": [
    "text = 'how does block-recurrence work? mb we can use it when recurrence  does forward '\n",
    "tokenized_text = torch.Tensor([tokenizer.encode(text, **encode_kwargs)]).long().to(device)\n",
    "vectorized_text = process_by_batch(model, tokenized_text, batch_size=1)\n",
    "text_embedding = vectorized_text[:, 0, :].detach().numpy()\n",
    "\n",
    "nearest_note_ind = pairwise_distances_argmin(text_embedding, note_embeddings, metric='cosine')\n",
    "nearest_note = notes[nearest_note_ind]\n",
    "nearest_note"
   ]
  },
  {
   "cell_type": "code",
   "execution_count": 137,
   "metadata": {},
   "outputs": [
    {
     "data": {
      "image/png": "[encoded data removed]",
      "text/plain": [
       "<Figure size 432x288 with 1 Axes>"
      ]
     },
     "metadata": {
      "needs_background": "light"
     },
     "output_type": "display_data"
    }
   ],
   "source": [
    "distances = pairwise_distances(note_embeddings, note_embeddings, metric='cosine')\n",
    "plt.hist(distances.flatten(), bins=20)\n",
    "plt.show()"
   ]
  },
  {
   "cell_type": "code",
   "execution_count": 139,
   "metadata": {},
   "outputs": [
    {
     "data": {
      "text/plain": [
       "(495, 0.1762192951228195)"
      ]
     },
     "execution_count": 139,
     "metadata": {},
     "output_type": "execute_result"
    }
   ],
   "source": [
    "thr = 0.1\n",
    "(distances < thr).sum(), (distances < thr).mean()"
   ]
  },
  {
   "cell_type": "code",
   "execution_count": 107,
   "metadata": {},
   "outputs": [
    {
     "data": {
      "text/plain": [
       "array([['   - a faster way of post-processing images-  \\t- create custom LUTs (do they fit all scenarios??) \\t- maybe some ai \\t- something for auto-hdr, exposure correction for Nikon  \\t\\t(or some substitute?)  - posting \\t- post to (https://500px.com/booydar) regularly \\t- instagram or some substitute  - portraits  \\t- some basic info, like a course \\t- insights from classic/recent photographers \\t- insights from drawings: \\t\\t- what techniques could be replicated in photos??   - AI \\t- merge video frames via averaging over sliding window \\t- auto-cg, trained on lightroom presets  - gear \\t',\n",
       "        ' вы задумывались, почему все начинают бухать и торчебосить примерно в одном возрасте? это страх. 17-летний страх того, что острота ощущений детства уходит, притупляя вкус к жизни. кризис 22-25 лет состоит в переживании осознания никчемности остатка того, что тебе отведено ощутить. ничто не имеет \"смысла\", говорить об общем смысле может только фанатик. какой вот \"смысл\" заново переживать те же ощущения, что уже были, но с меньшей силой и осознанием всех их побочек?   понимание смысла у каждого извращенно и имеет больше отношения к биохимии, чем к истине)',\n",
       "        '  ',\n",
       "        '00:36    еду в такси с дня рождения Дениса. странное ощущение  (Айдар с утра: чел ты вина напился просто)   тяжело без доверия. успокаивающее чувство, даёт как бы гарантии стабильности и предопределённости будущего.   не забыть в Башкирию ноут зарядка  телефон пб зарядка дезод паста щётка линзы лицо шампунь мыло?',\n",
       "        '16:03     красивую визуализацию всех результатов с разными флагами (можно только одно значение памяти и гиперпараметров)  подумать еще про передачу памяти между слоями  в случае, если память чтения и записи разная, то можно экономить на вычислениях, передавая память записи вперед в роли памяти чтения   МБ: хорошо бы заскориться на Wikidata90M, даже если окрестность будет подбираться из небольшого сабсета.  как мы будем соотноситься с бейзлайнами?   ']],\n",
       "      dtype=object)"
      ]
     },
     "execution_count": 107,
     "metadata": {},
     "output_type": "execute_result"
    }
   ],
   "source": [
    "distances = pairwise_distances(text_embedding, note_embeddings, metric='cosine')\n",
    "nearest_notes = notes[np.argsort(distances)[:, :5]]\n",
    "nearest_notes"
   ]
  },
  {
   "cell_type": "markdown",
   "metadata": {},
   "source": [
    "### headers"
   ]
  },
  {
   "cell_type": "code",
   "execution_count": 108,
   "metadata": {},
   "outputs": [],
   "source": [
    "n_clust = 6\n",
    "# cluster = KMeans(n_clusters=n_clust)\n",
    "cluster = AgglomerativeClustering(n_clusters=n_clust)\n",
    "header_clusters = cluster.fit_predict(header_embeddings)\n",
    "headers = db_df.header.values"
   ]
  },
  {
   "cell_type": "code",
   "execution_count": 109,
   "metadata": {},
   "outputs": [
    {
     "name": "stdout",
     "output_type": "stream",
     "text": [
      "Cluster 0\n",
      "['результаты' 'что такое вкус?' 'что такое искусство'\n",
      " 'T5+ sparse attn + scaling '\n",
      " 'Consider a group that emerges as a subgraph by a relation'\n",
      " 'A vision of RMT as more than just one model' 'linux commands'\n",
      " 'тотальное одиночество'\n",
      " 'Use memorization/memory improvement techniques to teach memory'\n",
      " 'Current state:' 'Do transformers need long contexts to solve long tasks'\n",
      " 'Improve structure']\n",
      "\n",
      "\n",
      "Cluster 1\n",
      "['Tools for improving image-taking' 'Limitations of loss on each segment'\n",
      " 'Auxillary losses to boost RMT'\n",
      " 'Link prediction motivated by some objective' 'МБ - иррациональность'\n",
      " 'P-Tuning v1' 'что-то потерялось']\n",
      "\n",
      "\n",
      "Cluster 2\n",
      "['Roadmap of ideas for taking images' 'Ideas for improving RMT on SCROLLS'\n",
      " 'Лекция МБ по истории ИИ' 'Continuous learning of neural models'\n",
      " 'Automatic tagging for notes using neural networks'\n",
      " 'lists of conferences and deadlines']\n",
      "\n",
      "\n",
      "Cluster 3\n",
      "['books to read' 'Ideas' 'Ideas' 'Daily shooter' 'Meeting notes'\n",
      " 'Memory pass variations' 'баскетбол' 'Meeting notes' 'global goals'\n",
      " 'Сайты' 'Идея' 'Directions' 'Summary of results' '17 лет'\n",
      " 'clouds comparison' 'Idea' 'ОСР' 'SLED ' 'Visualization' 'NLP']\n",
      "\n",
      "\n",
      "Cluster 4\n",
      "['ML and Bioinformatics' 'Домашний сервер для облака и фоновых расчетов'\n",
      " 'KGE by matrix factorization']\n",
      "\n",
      "\n",
      "Cluster 5\n",
      "['04-09-22' '24-07-22' '27-08-22' '18-08-22' '20-07-22']\n",
      "\n",
      "\n"
     ]
    }
   ],
   "source": [
    "for c in np.unique(header_clusters):\n",
    "    group = headers[header_clusters == c]\n",
    "    print(f'Cluster {c}\\n{group}\\n\\n')"
   ]
  },
  {
   "cell_type": "markdown",
   "metadata": {},
   "source": [
    "#### notes"
   ]
  },
  {
   "cell_type": "code",
   "execution_count": 110,
   "metadata": {},
   "outputs": [],
   "source": [
    "n_clust = 5\n",
    "notes = db_df.note.values\n",
    "# cluster = KMeans(n_clusters=n_clust)\n",
    "cluster = AgglomerativeClustering(n_clusters=n_clust)\n",
    "note_clusters = cluster.fit_predict(note_embeddings)"
   ]
  },
  {
   "cell_type": "code",
   "execution_count": 111,
   "metadata": {},
   "outputs": [
    {
     "name": "stdout",
     "output_type": "stream",
     "text": [
      "Cluster 0\n",
      "['   - a faster way of post-processing images-  \\t- create custom LUTs (do they fit all scenarios??) \\t- maybe some ai \\t- something for auto-hdr, exposure correction for Nikon  \\t\\t(or some substitute?)  - posting \\t- post to (https://500px.com/booydar) regularly \\t- instagram or some substitute  - portraits  \\t- some basic info, like a course \\t- insights from classic/recent photographers \\t- insights from drawings: \\t\\t- what techniques could be replicated in photos??   - AI \\t- merge video frames via averaging over sliding window \\t- auto-cg, trained on lightroom presets  - gear \\t'\n",
      " '17:03      State Somewhere RMT improves baseline and its own predictions on previous segments (cnli), but on QA and summ second segment is worse than the first one (and than baseline). First segment also is worse than baseline   Ideas  - maybe finetune only memory weights?  \\tsomehow separate memory weights from language weights and fine-tune only memory ones   - pre-train memory on task-agnostic objective \\t- use mem outputs of encoder to decode previous segment with a separate decoder \\t- another way is to pool task answer not from cls but from mem tokens  - decode using concatenated memory from all previous segments, not last one  Check for errors - check if  gradient flows through memory - train baseline without question on qasper. is the score similar to rmt-2-seg? - why are predictions on 2nd segment worse unlike validation loss?   To think 1) how do we improve remembering using memory? 2) where could an error possibly occur? 3) token offset in encoder-only models?  '\n",
      " \"11-08-22 16:15     When we sum loss of all segments for training, it yields some improvement of score in multi-segment setting.  However the problem was that we don't want to make predictions based on last segment, because in some tasks the formulation of the task is written at the beginning.  The solution may be taken from model ensembling.  We can treat each segment as a member of an ensemble, which is the RMT. Each model outputs its vote and RMT decides its answer based on votes.  But how can it make this decision? 1) average all outputs  \\t- same shape \\t- fusing data. why? \\t- does not work for enc-dec  2) concatenate and use a meta-classifier \\t- additional model \\t- acceptable for enc-dec   kinda reminds       \"\n",
      " '16:31     !  !  Разница в этих направлениях:  1) DL пытается моделировать сложное поведение из множества простых элементов, меняя их поведение для повышения вероятности получения правильного результата. 2) МЛ старается создать модель мира и подогнать под нее эмпирические данные 3) Эволюционные алгоритмы полагаются на моделирование биологической эволюции   ~2006 - start of Unreasonable effectiveness of Deep Learning trend - Deep NN trained by SGD converge surprisingly well unlike many other algorithms on many tasks.   - large datasets <- large pretrained models - long training (slow convergence) <- --||-- - limited input size <- - OOD tasks <-  on inductive setting - =>catastrophic forgetting <-  - goal generation  - reasoning  - explainability <-  - commonsense  - Contrastive Seq2Seq: multimodal NLP+CV model is 2022 SOTA on ImageNet - Aggregate more tasks: BIG-bench, 150 tasks - GATO: train a model on multiple gaming tasks (data acquired without a teacher) \\t- results: cool but no expected meta-improvement beyond the level of human master'\n",
      " '15:54     FAIS as ranker for neighborhood ФАИС?? чо это такое  релевантно ли вообще сортировать по релейшену во 2 окрестности размера 2? сколько всего мы хотим положить в наш семпл? что вообще релевантно?  USE as a ranker? Вспомнить тоже, что это такое  Существует ранжировщик, определяющий релевантность триплета для семпла текста     сравнивать флаг суммирования лосса нужно не по средним а по лучшим запускам можно посчитать коррелляцию      Алсу  UMAP? вспомнить, что это такое записываем в память токены с высокой неопределенностью. для этого заранее прогоняем  LaBSE loss (originally for translation) loss = SM + margin for pushing away non-paraphrases     Лёня алгоритмы поиска гиперпараметров  optun, bayesian, smth in hf for hyperparameter search'\n",
      " ' (https://trello.com/b/Dxp3BPZZ/lm-based-graph-link-prediction) (https://github.com/screemix/LM-based-graph-link-prediction)      Given known links in a KG, an entity and relation, predict tail  !   ! 0) drop 50% links to simulate KG incompleteness 1) select random validation subset of links \\t(so that nodes from validation appear in train at least once) 2) for training, select neighborhoods only from train and target node masked out 3) for validation, same! no neighborhood from validation ever   1) dataset preparation script \\t- take first 1m unique nodes \\t- drop 50% links to simulate incompleteness \\t- need authors\\' split to compare directly \\t- no \"predict tail\" prefix 2) custom t5 training \\t- training, logging etc. 3) SOTA results \\t- we took a subset of first 1M nodes \\t- our reimplementation of KGT5 scores somewhat the same (~0.29 acc@1) \\t- our algorithm has ~0.36 acc@1   -  add results to github -  25.07-01.08 - decision whether to continue    1) expand neighborhood 2) more honesty in comparisons: \\t1) validate on entire dataset \\t2) ask KGT5 authors for link prediction split 4) check for data leaks closely 5) add memory   6) add factorization embeddings  7) add graph embeddings as on the leaderboard  Q Neighbourhood for each node was stored as a hashmap. The resulting map size is supposedly larger than the dataset itself. (However is it really true?)     '\n",
      " '09-08-22 16:35     Notes are presented as plain text or markdown files. They contain some tags, a header and text.    The algorithm automatically processes headers and text and creates tags to connect similar notes between each other.  Algorithm 1) Notes are loaded with python 2) Headers and text are vectorized by a pretrained NN with good semantic properties (sentence BERT) 3) Vectors are separated to N clusters, where N is selected manually or to maximize the silhouette metric 4) Each cluster is vebalized as top-n frequent words or using a summarization model 5) Header and text cluster labels are used as new tags and are appended to original files.   Q - What resources are needed to run this app? - How to chose the number of clusters?  - run app periodically - How to pack the script to an executable file?  - app as an obsidian plugin?      '\n",
      " '    web ssh -N -f -l localhost:8888:localhost:8889 labpc sudo openvpn --config /home/booydar/Desktop/MIPT/deeppavlov/vpn.conf  gpu gpustat -i 1 -cpuP  tensorboard regexp parts of expression like  part1 . part2  webcam gphoto2 --stdout --set-config liveviewsize=2 --capture-movie | ffmpeg -i - -vcodec rawvideo -pix_fmt yuv420p -threads 0 -f v4l2 -s:v 512x340 /dev/video2  repair: cd ~/Apps   sudo apt-get remove v4l2loopback-dkms   cd ~/Tools/v4l2loopback/   make clean   make   sudo make install   sudo depmod -a   sudo modprobe v4l2loopback  graphic tablet xsetwacom --set \"18\" MapToOutput HEAD-0   '\n",
      " '30-07-22 11:26                МБ:   Мне подумалось, что в текущей реализации RMT выход токенов WRT проходит все слои READ, а это может быть не очень хорошо для сходимости по причине того, что (1) для этих векторов глубина сети в два раза больше, и  (2) сама сетка учится предсказывать значения токенов на выходе, а не абстрактные вектора.   Возможно, чтобы облегчить эту проблему можно упростить модель \"совместив\" вычисления WRT и READ токенов. Т.е. просто при расчете представлений токенов для сегмента n+1 брать соответсвтующие скрытые представления по слоям, полученные при расчете WRT на сегменте n. Т.е. мы как бы \"склеиваем\" расчет сегментов через WRT. Кажется, что по духу модель остается прежней, просто будет меньше расчетов и короче путь для градиентов.  Я:  идея хороша по нескольким причинам - короче (?) путь для некоторых градиентов - память передается на всех слоях - больше информации - метод является обобщением tr-XL (tr-XL эквивалентен (?)  записи хидденов в память без изменений) - не нужны отдельные READ токены => единый формат для рекуррентности в enc и dec  минусы: - на 1 слое сегмента n+1 нет инфо о последнем слое сегмента n => нет смешивания разных уровней абстракции            '\n",
      " '09-08-22 00:11     1) ТГ бот как интерфейс для управления чем-то? \\t1) генератор случайных чисел чтобы решать, пить пиво или нет  \\t\\t(хорошо бы добавить неронные доп вопросы или генерацию истории по ответу) 1) создать облако из hdd и ssd как буфера  2) 1080ti? для нейронок и приложений в фоне (идеи?)    Thecus 2310, Fedora, ppc? архитектура доступы по ssh, samba, .. пробовал установить syncthing как на обычный linux, возникают проблемы. - установщик только yum с репозиториями thecus, где никаких пакетов нет - при попытке wget, curl ошибка в ssl, возможно, слишком старый протокол - при установке из скачанного гитхаба - ошибка binary not executable для всех проверенных версий для разных архитектур  Магазин приложений устаревший, приложения только для старшей версии ОС 7, а при попытке обновления на нее NAS - неизвестная ошибка      '\n",
      " \"08-09-22 11:08    (https://transformer-circuits.pub/2021/framework/index.html(https://www.youtube.com/playlist?list=PLoyGOS2WIonajhAVqKUgEMNmeq3nEeM51)  An attempt to interpret transformer as a combination of basic mathematical operations. In this paper only 0-2 layer attention-only (no MLP) transformers are studied, larger models are leaved for future work.  Simplifications - MLP are hard to understand, so authors leave them out for elegance and simplicity. - No biases - No layer-norm - decoder-only   -   Zero layer transformers model bigram statistics.\\xa0The bigram table can be accessed directly from the weights. -   One layer attention-only transformers are an ensemble of bigram and “skip-trigram” The bigram and skip-trigram tables can be accessed directly from the weights. -   Two layer attention-only transformers can implement much more complex algorithms using compositions of attention heads (also be detected directly from the weights). -   One layer and two layer attention-only transformers use very different algorithms to perform in-context learning.  !  - Attention head is an individual operation outputting a result into a residual system. - Attention is a sum of interpretable end-to-end functions - QK and OV are largely independent - q,k,v are intermediate results of multiplying low-rank Wq^TWk, WoWv - Composition of heads greatly increases the expressivity - token embedding, attention heads, MLP layers, and unembedding communicate with each other by reading and writing to different subspaces of the residual system (?)  Virtual weights Authors separate residual connection to a so-called stream, that serves as a communication highway for layers. It can be thought of as virtual weights that link any pair of layers. Information flows in this stream until specifically removed with an element. The bandwith of the stream is relatively low in comparison to the number of preceding neurons => hiddens are challenging to interpret, easier to find out what a single head does.  Each element (head) computes its own projection and adds it to the stream with own weight. Attention heads have low-dim projections (~64).  !  Some heads perform kind of memory management by writing out the negative version of some previously made changes.  !  It's important to think of attention heads as independent and additive elements that operate in parallel and add their output into the residual stream.  The fundamental action of attention heads is moving information. They gather information from stream tokens and rewrite it into another stream token. Read and Write tokens here are completely sepate from each other! So are operations performing them       \"\n",
      " '21-07-22 17:34     !  We use this benchmark to check RMT ability to work with long texts.  Texts are split into segments and first k segments are processed recurrently.   - on hyperpartisan RMT shows improvements with 2+ segments - on contract-nli and quality improvement is marginal \\t- possibly due to the fact that premise is in the first segment, but the answer is obtained using the last one -> loss on each segment     colaborate with authors from tel aviv  previously some authors did a work on efficient transformers (https://arxiv.org/pdf/2006.03274.pdf) it showed some ppl improvement on arxiv and pg19 and better results on QA  research is supported by Yandex in Israel. it shows that the topic is hot and well-funded.  Vasily K suggested to contact A Gupta and Berant to find some common interest in related tasks.   - include Yura  - read about (https://arxiv.org/pdf/2201.03533.pdf) what is effective on leaderboard and can be easily replicated?  - what is gmat and how is it different from bigbird             %%(https://arxiv.org/pdf/2201.03533.pdf)%%  '\n",
      " 'SLED11-08-22 16:50    a non-recurrent way of using short-input transformers (enc + enc-dec) to processing long texts  - overlapping sliding window - ~~some special tokens that are seen by all others - task-specific prefix at the start of each segment - some tokens in segment from its neighbours - decoder generates based on concatenated output of all segments  \\t(input stays the same as it was, but is processed independently)              ! ToDo: redraw schemes!!  Improve SLED 1) Add memory to the start of each segment and then append it to the encoder output instead of segment output 2) use memory as a recurrent connection between overlapping (?) windows 3) 1+2: use memory as a connector and then pass it to the encoder output   Modify RMT 1) concatenate memory of all segments and pass it to the decoder cross-attention 2) use task-specific prefix for all segments 3) overlapping windows ??'\n",
      " '20-07-22 13:20     - find patterns on attention maps - mean attention maps over samples - mean attention maps over heads - total attention over each token in each layer  - gradient - based attention maps - lines / oob tools instead heatmaps   - take found patterns and zero out everything else with attention masks (?) - leave only specialist heads   (https://docs.google.com/document/d/1jVpPtgg48zTfyyzGJWIJjWSN5UDeOqC5VBYiToFF0qQ/edit?usp=sharing) Idea - Fine-tune baselines and  RMT on Hyperpartisan and  - Compare attention maps, find patterns on memory part - Explore statistics over samples, heads, layers - Gradient-based attention maps  Results - Memory interraction with  differs for various classification labels - Fine-tuned a log-reg on attention map piece (MEM, CLS, SEP-> ), acc ~0.86-0.92 for various layers  (https://github.com/nadyashanarova/t5-experiments) from           '\n",
      " '        (https://openreview.net/forum?id=BZ5a1r-kVsf) (https://arxiv.org/abs/2205.01546)  memUP!!!! (/home/booydar/Desktop/MIPT/lit/mem/memup_nips_2022.pdf) (https://deeppavlov.slack.com/files/U3PJ1NPF1/F03LVHU95NU/memup_nips_2022.pdf)     (https://ai.googleblog.com/2022/02/guiding-frozen-language-models-with.html)    (https://arxiv.org/pdf/2001.04959.pdf)     (https://openreview.net/forum?id=BZ5a1r-kVsf)   ']\n",
      "\n",
      "\n",
      "Cluster 1\n",
      "[' -  столяренко психические и познавательные процессы раздел память   -  прощание с бумагой   -  Сорокин день опричника   -  вольтер   -  пиши, сокращай MB   -  фицжеральд я это ты ты это я   -  Атлант расправил плечи   -  Шопенгауэр сочинения том 1   -  Достоевский Записки из подполья, Бесы   -  2 капитана   -  дианетика   -  Ницще по ту сторону добра и зла   -  гегель   -  диалектика просвещения   -  антрополог на марсе   -  доллар всемогущий   -  куприн Олеся, Гранатовый браслет   -  некрасов филантроп   -  унесённые ветром   -  гессе бисер   -  как управлять рабами   -  портрет Дориана Грея   -  michael kerrisk the linux programming interface   -  темная башня   -  почему никто не рассказал мне это в 20   -  логика верещагин шень   -  контрпримеры в матанализе   -  языки племён   -  дюна   -  эверест   -  де сад   -  книги нового солнца   -  гуго гляйзер героическая медицина   -  семантическая концепция истины и основания семантики   -  рудольф карнап преодоление метафизики основание языка   -  Каверин открытая книга   -  осколки бога   -  бруно латур   -  одномерный человек маркузе   -  Скотт Адамс how to fail...   -  Нора Галь слово живое слово мертвое   -  записки Хендрика брюна из амстердамской академии   -  гилеровский   -  братья Гримм   -  задача трех тел   -  голубое сало   -  Лю цы синь фантастика   -  проект лиззи   -  Марк твен   -  камю счастливая смерть   -  книга песчинок   -  Марсель пруст   -  витгенштейн - философия язык через язык   -  на пенсию в 35   -  Маслоу мотивация и личносвть   -  страх и трепет   -  юнг, фрейд   -  миф о сизифе   -  Цитадель кронин   -  sapiens'\n",
      " '24-08-22 11:07    Максим - сотрудник, раньше работал в нашей лабе Ольга - AIRI, глава лаборатории Вениамин - AIRI, новосиб  - Хорошая идея добавлять эмбеддинг для разных типов чего-либо (например, клетки), чтобы помочь модели их различать \\t- Глобальный вопрос: в чем вообще нужно модели \"помогать\", а в чем она должна разбираться сама - По ДНК можно определить: \\t- возраст \\t- цвет глаз \\t- сколько хромосом у динозавра \\t- есть ли у человека брат близнец \\tнельзя: \\t- рост \\t- пол осетра (?)  ( ! ) Кросс-энтропия - сколько бит нужно, чтобы определить, к какому распределению относится некий х из двух данных распределений. ( ! ) Веса первого слоя и есть эмбеддинги, т.к. чтобы получить представления слова, мы умножаем его на one-hot вектор    notes  Большая часть заболевших генетическими заболеваниями не получают молекулярного диагноза. Метод исследования - геномный анализ  геном человека - 3млрд нуклеотидов экзом - полезная часть (2%),  98% (некодирующая часть) занимаются чем-то неизвестным   Пример процесс сплайсинга Кодирующие участки записаны не подряд, между ними некодирующая последовательность. От него зависит, получится ли петелечка при сплайсинге) Простого ответа на то, какая должна быть последовательность, нет, только частично.  Решение Экспериментально находим такие участки, подаем в модель и обучаем модель классифицировать  1) левая граница 2) правая граница 0) ничего Модель - сверточная нейросеть  ( ! ) Голубоглазые люди - дальние родственники, за признак отвечает один ген  Input sequence -> Conv/Transformer -> embedding -> some information    понять, как ДНКаза связана с экспрессией гена Модель: !     '\n",
      " '23-08-22 11:59      - https://aideadlin.es  - http://www.cs.cmu.edu/~blengeri/deadlines.html  - https://jackietseng.github.io/conference_call_for_paper/conferences.html  - rating: https://www.resurchify.com/cr/find/  - raings: https://www.scimagojr.com/  - https://www.core.edu.au/conference-portal  \\t- conf rating: http://portal.core.edu.au/conf-ranks/  - https://github.com/lixin4ever/Conference-Acceptance-Rate  - https://sciguide.hse.ru/    NLP:  - Dialogue-21 http://www.dialog-21.ru/  \\t- submission deadlines: 1st March 2022  \\t- conference: 15-18 June 2022  AI&ML&NLP:  - AINL https://ainlconf.ru/  \\t- todo: update dates!  \\t- Submission deadline: 1st March 2022  \\t- Notification of acceptance: 29 March 2022  \\t- Camera-ready due: 21 April 2022  \\t- Conference: 14-15 April 2022  - RCAI http://2021.rncai.ru/ru/  \\t- Submission deadline: ~ May  - AIST https://aistconf.org/  \\t- Abstract deadline: 01.09.2021  \\t- Submission deadline: 15.09.2021  \\t- Notification of acceptance: 01.11.2021  \\t- Camera-ready version: 15.11.2021  \\t- Conference: 16-18.12.2021  Нейроинформатика:    NLP:  - LREC http://elra.info/en/lrec/lrec-2022/  \\t- Submission deadline: 10 January 2022  \\t- Conference: 20-25 June 2022  \\t- Marseille, France  \\t- Rating: C  - NAACL  \\t- Conference 10-15 July 2022.  \\t- Submission deadline: 15 January 2022  \\t- Notification of acceptance:  7th April 2022  \\t- Camera-ready due: 3rd May 2022  \\t- Seattle, Washington  \\t- Rating: A  - SIGIR https://sigir.org/sigir2022/  \\t- Conference: 11-15 Jul 2022, Madrid  \\t- Full papers submission deadline: 28 Jan 2022  \\t- Full papers abstract submission deadline: 21 Jan 2022  \\t- Short papers submission deadline: 21 Feb 2022  \\t- Short papers abtract submission deadline: 14 Feb 2022  \\t- Rating: A  - NLDB https://nldb2022.prhlt.upv.es/  \\t- International Conference on Natural Language & Information Systems  \\t- Submission deadline: 28 Feb 2022  \\t- Conference: 15-17 June 2022  \\t- Rating: C  - INTERSPEECH https://www.interspeech2022.org/  \\t- Conference: 18-22, 2022, Korea  \\t- Submission deadline: 21 March 2022  \\t- Notification of acceptance: 12 June 2022  - PACLIC https://www.paclic2022.net/  \\t- Pacific Asia Conference on Language Information and Computation  \\t- Submission deadline: 20 April 2022  \\t- Conference: 20-22 October 2022  \\t- Rating: B  - CLIB 22 http://dcl.bas.bg/clib/  \\t- International Conference on Computational Linguistics in Bulgaria  \\t- Conference: 8–9 September 2022 in Sofia, Bulgaria  \\t- Submission deadline: 15 April 2022 (23:59 UTC/GMT+2)  \\t- Official proceedings publication date: 7 September 2022  \\t- Abstract submission deadline: 20 March 2022  \\t- Rating: -  - COLING http://coling2022.org/  \\t- Conference: 12th - 17th October 2022  \\t- Submission deadline: 17 May 2022  \\t- GYEONGJU, Republic of KOREA  \\t- Rating: A  - CIKM https://www.cikm2022.org/  \\t- ACM International Conference on Information and Knowledge Management  \\t- Conference: 17-22 Oct 2022  \\t- Abstract deadline: 9 May, 2022  \\t- Submission deadline: 16 May, 2022  \\t- Rating: A  - EMNLP https://2022.emnlp.org/  \\t- Conference: December 7 – 11, 2022  \\t- Anonymity period: May 24, 2022  \\t- Abstract deadline: June 17, 2022  \\t- Submission deadline: June 24, 2022  \\t- Submission deadline for ARR papers: July 24, 2022  \\t- Abu Dhabi  - AACL-IJCNLP https://www.aacl2022.org/  \\t- Anonymity period: June 15, 2022  \\t- Submission deadline: July 15, 2022  \\t- Submission deadline for ARR papers: August 21, 2022  - RANLP https://ranlp.org/  \\t- deadlines  ~ June  \\t- conference ~ September  - EACL https://eacl.org/  \\t- deadlines  ~ October  \\t- conference ~ April  \\t- once in 2-3 years, last was in 2021  \\t- Rating: A  - ECIR  \\t- European Conference on Information Retrieval  \\t- Rating: A  \\t- Submission deadline: ~ October  - ACL https://www.2022.aclweb.org/  \\t- Conference 22nd - 27th May 2022.  \\t- Submission deadline: by November 15, 2021  \\t- Commitment deadline for ACL 2022: 7th January 202  \\t- Notification of acceptance:  20th February 2022  \\t- Camera-ready due: 15th March 2022  \\t- Dublin  \\t- Rating: A  - IJCNLP  \\t- Rating: B  - AACL  - ICASSP  - WMT  - CoNll  - INLG  \\t- Submission deadline: ~ June  \\t- Rating: B  - AKBC  \\t- Automated Knowledge Base Construction  - CHIIR  \\t- ACM SIGIR Conference on Human Information Interaction and Retrieval  \\t-   ML:  - IJCAI-22 https://ijcai-22.org/  \\t- Conference dates: July 23-29, 2022, Vienna  \\t- Abstract submission: January 7, 2022  \\t- Author information deadline: January 10, 2022  \\t- Full paper submission deadline: January 14, 2022  \\t- Summary reject notification: February 18, 2022  \\t- Author response period: March 16-18, 2022  \\t- Paper discussion phase: March 19-29, 2022  \\t- Paper notification: April 20, 2022  \\t- Camera ready: April 30, 2022   - ICML  \\t- Abstract submission: 20 Jan 22  \\t- Submission deadline: 27 Jan 22  \\t- Conference: June 17 - 23, 2022  - KDD https://kdd.org/kdd2022/index.html  \\t- Conference: August 14-18, 2022  \\t- Submission deadline: 10 Feb 2022  - UAI 2022 https://www.auai.org/uai2022/  \\t- Conference on Uncertainty in Artificial Intelligence  \\t- research related to learning and reasoning in the presence of uncertainty  \\t- Conference: 1 - 5 August 2022  \\t- Submission deadline: 25 Feb 2022  \\t- Rating: A  \\t- All accepted papers will be published in a volume of Proceedings of Machine Learning Research (PMLR)  - WSDM https://www.wsdm-conference.org/2023/  \\t- ACM International Conference on Web Search and Data Mining  \\t- Conference: Feb 27 - March 3, 2023  \\t- Submission deadline: 12 Aug 2022  \\t- Singapore  \\t- Rating: A  - ICLR https://iclr.cc/  \\t- Abstract submission: 28 September 2021  \\t- Submission date: 5 October 2021  \\t- Reviews released: 7 November 2021, 04:00 PM PST  - AAAI https://aaai.org/Conferences/AAAI-22/  \\t- August 30, 2021: Abstracts due  \\t- September 8, 2021: Full papers due  \\t- October 1, 2021: Abstracts and full papers for NeurIPS fast track submissions due  \\t- October 15, 2021: Notification of Phase 1 rejections  \\t- November 29, 2021: Notification of final acceptance or rejection  - AISTATS https://aistats.org/  \\t- International Conference on Artificial Intelligence and Statistics  \\t- Conference: March 28 - March 30, 2022  \\t- Abstract submission deadline is 11:59AM UTC October 9th!  \\t- Submission: final paper submission on 11:59AM UTC October 15th  \\t- Valencia, Spain  - SAC https://www.sigapp.org/sac/sac2022/  \\t- ACM Symposium on Applied Computing  \\t- Conference: April 25 - April 29, 2022  \\t- Submission deadline: 31 October, 2021  \\t- Rating: B   1.        AAAI: AAAI Conference on Artificial Intelligence  2.        ACL: Meeting of the Association for Computational Linguistics  3.        AISTATS: International Conference on Artificial Intelligence and Statistics  4.        CEC: IEEE Congress on Evolutionary Computation  5.        CVPR: IEEE/CVF Conference on Computer Vision and Pattern Recognition  6.        ECCV: European Conference on Computer Vision  7.        EMNLP: Conference on Empirical Methods in Natural Language Processing  8.        ICASSP: IEEE International Conference on Acoustics, Speech and Signal Processing  9.        ICCV: IEEE/CVF International Conference on Computer Vision  10.     ICLR: International Conference on Learning Representations  11.     ICML: International Conference on Machine Learning  12.     ICRA: IEEE International Conference on Robotics and Automation  13.     IJCAI: International Joint Conference on Artificial Intelligence  14.     INTERSPEECH: Conference of the International Speech Communication Association  15.     IROS: IEEE/RSJ International Conference on Intelligent Robots and Systems  16.     KDD: ACM SIGKDD International Conference on Knowledge Discovery and Data Mining  17.     NAACL: Conference of the North American Chapter of the Association for Computational Linguistics: Human Language Technologies  18.     NeurIPS: Neural Information Processing Systems  19.     SIGIR: Special Interest Group on Information Retrieval  20.     The Web Conference (WWW: International World Wide Web Conferences)  AISTATS, ALT, COLT, ICLR, ICML, NeurIPS, UAI, ECML, CIKM, ICDM, KDD, SIGIR, WSDM, WWW, AAAI, IJCAI, CVPR, ECCV, ICCV, SIGGRAPH, BMVC, ACL, EMNLP, ICASSP, INTERSPEECH, NAACL, ICRA, IROS, RSS, CORL, AAMAS, HRI, ICAPS, EC, HCOMP, ICWSM, IUI, KR, SAT, WSDM, CPAIOR, ECAI      '\n",
      " ' \\u200b   - OneDrive  \\t- 5Gb free  \\t- 1Tb + Office license 6199р / year  \\t- next charge on 8/19/2022  \\t- personal vault - locked folder with authentication  \\t- on-demand syncing  - Google Drive  \\t- 17Gb free  \\t- 100Gb 1390р/year  \\t- 200Gb 2190р/year  \\t- 2Tb 6990р/year  \\t- add +5 users to the plan  \\t- on-demand sync?  \\t- google doc and presentations are the best  - Yandex Disk  \\t- 42Gb + 10Gb (yandex.plus)  \\t- on-demand syncing  \\t- +100Gb 499р / year  \\t- +1Tb 1399р / year  \\t- has Word/Excel files online editing  - DropBox  - alternative to personal vault: veracrypt + eds on android (hard to add new file), or mac os encrypted volume (only mac will be able to mount)  - Keepass with VC-Plugin and keyfiles for mounting volumes. Keepass could be additionally secured with OTP by a Nitrokey.  \\u200b   \\u200b  - NextCloud https://nextcloud.com/athome/  \\t- Win/MacOS/Android/iOS  \\t- self hosted server  \\t- sync files on demand   - Resillio https://www.resilio.com/  \\t- One time licence:  \\t\\t- PRO: 60$ (1 user) - 100$ (up to 5 users)  \\t- Win/MacOS/Android/iOS clients  \\t- Selective sync / on-demand in Pro version  \\t- Data is stored only on your device (no server, p2p sync)  \\t- cons: one machine has to be always available with all the data (aka server)  - Seafile https://www.seafile.com/en/home/  \\t- 3 users free Pro Edition licence  \\t- has Drive client to mount as external system drive with caching  \\t\\t- supports on-demand sync (=caching)?  \\t- Win/MacOS/Android/iOS clients  \\t- Linux server  \\t- Data is stored remotely  - RClone https://rclone.org/  \\t- only CLI   \\t- Rclone (https://rclone.org/commands/rclone_serve_dlna/).  - Synology Drive  - Peergos https://peergos.org/  - Syncthing']\n",
      "\n",
      "\n",
      "Cluster 2\n",
      "['02-08-22 22:43     это какое-то действие человека и его результат  процесс или результат должен как-то влиять на людей или иметь такую возможность. в противном случае это не может считаться искусством  но тогда если произведение не повлияет, не тронет ни одного человека, то может ли оно считаться искусством?   возможно, оно повлияет на кого-то в будущем, но тогда оно им и станет  если оно может повлиять, но никогда не повлияет, то это искусство или только потенциал для него?         '\n",
      " '00:36    еду в такси с дня рождения Дениса. странное ощущение  (Айдар с утра: чел ты вина напился просто)   тяжело без доверия. успокаивающее чувство, даёт как бы гарантии стабильности и предопределённости будущего.   не забыть в Башкирию ноут зарядка  телефон пб зарядка дезод паста щётка линзы лицо шампунь мыло?'\n",
      " \"16:11      !   how does block-recurrence work? mb we can use it when recurrence  does forward really differ in bert, roberta, deberta etc?  is  there a universal forward?  if yes, it's   Aydar: подумать над другими моделями  Yura:  подтянуть генеративные бейзлайны к уровню авторов SLED\"\n",
      " '16:03     красивую визуализацию всех результатов с разными флагами (можно только одно значение памяти и гиперпараметров)  подумать еще про передачу памяти между слоями  в случае, если память чтения и записи разная, то можно экономить на вычислениях, передавая память записи вперед в роли памяти чтения   МБ: хорошо бы заскориться на Wikidata90M, даже если окрестность будет подбираться из небольшого сабсета.  как мы будем соотноситься с бейзлайнами?   '\n",
      " '23:59     Искусственное повышение гормонов счастья похоже на естественный процесс формирования поведения человека. Было бы круто использовать повышение дофамина, чтобы формировать личность, определяя то, что доставляет удовольствие. Хотя в реальности если бы был такой инструмент, было бы сложно самому контролировать этот процесс, возник бы соблазн поощрять себя и без особых достижений. для решения этой проблемы нужно вынести волю за пределы желаний самого человека, в руки другого человека. получились отношения с другими людьми (романтические в частности) либо рабочие '\n",
      " '(https://arxiv.org/abs/2112.07916)￼22-07-22 17:50      t5 sliding window attention + global tokens pretrained as t5 with span corruption and summarization objectives  written in fckn flax trained on 4x8 tpu...  xl version beats bigbird  attention ideas from                '\n",
      " ' (https://angryloki.github.io/wikidata-graph-builder)  while traversing a KG we can take distant similar subgraphs  rather than a close neighbourhood  - How do we measure subgroup relevance?   entity: president traverse by: subclass of !  entity: Barack Obama traverse by: instance of !  entity: scientist relation: subclass of !  '\n",
      " '03-08-22 18:13     So there is an NN, trained to solve some task based on facts. When some facts change or new ones are added, the model needs to be retrained to take it into account.  To mitigate this, we can use KG as the fact storage and update triplets instead of model weights. Retraining can be conducted only once in a while.  Due to KG incompleteness we can use something like  to fill that graph with missing links to boost the solution quality.   - How to add KG to the model input?  \\tmaybe smth like      '\n",
      " \"17-08-22 16:20     Idea:  we've tried a lot of things with memory, but each one of them works in different situations. We can see RMT as a memory framework, where a user can experiment with flags based on his own task with his own models.  Technically, it means that all changes in RMT should be made in a clear way so that they don't interrupt with each other.     \"\n",
      " '01-08-22 19:44    (https://arxiv.org/pdf/2103.10385.pdf)  !  ideas - take pretrained BERT, RoBERTa, GPT-2 - input is preceded by continuous embeddings - PT + FT somewhat matches finetuning for larger models !   (https://arxiv.org/pdf/2110.07602.pdf)  ! Average scores on RTE, BoolQ and CB of  SuperGLUE dev.  ideas - adapt for NLU tasks         '\n",
      " '   1. memory in each layer rather than just in the first one  \\t(https://arxiv.org/pdf/2110.07602.pdf) 2.  as extended long-term storage 3.  apply to  4. apply to  5.  improve (https://github.com/AIRI-Institute/GENA_LM) \\tmb on tasks from (https://arxiv.org/pdf/2007.14062v2.pdf) 6.  how does memory use attention? 7.  8.  9.  10.  11.            '\n",
      " ' Profit: - explicit spatial data into nodes - can easily embed new entities/relations without retraining old ones each time - may boost         links: (https://arxiv.org/pdf/1808.07018.pdf) (https://arxiv.org/pdf/2204.10629v2.pdf) (https://aclanthology.org/D19-1522.pdf) (https://arxiv.org/pdf/1606.06357.pdf)    '\n",
      " \"02-09-22 18:40        1. e.g. we can add anoter head to reproduce input of previous segments from memory 2. how does reproducing previous input improve our memorization ?? (akin to remembering your day b4 sleep) 3. that's more like long-term memory  \\t1. super long-term memory is model weights \\t2. regular Memory Transformer is kinda like so  \"\n",
      " \"12-08-22 10:41     Vasily's idea: Prove that no long attention is needed, instead we can somehow shorten the input so that it fits in the transformer and manages to keep the task quality still nice.  compress long input  (i.e. using extractive summarization techniques) and then use a transformer to perform summarization    (https://www.dialog-21.ru/media/5514/iazykovatplusetal037.pdf) attacking russian superGLUE:     \"\n",
      " \"01-08-22 17:41    -  add zero-links -  refine fleeting notes  \\t-  where to store them? \\t-  some easy template    1) atomic & interconnected 2) don't copy contents 3) don't write obvious stuff 4) only write about what i'm passionate about   maybe some mutual db? extension can be stored in a separate folder synchronized by syncthing         \"\n",
      " '  Our memory acts as a limited short-term storage.  Weights act as a lifelong storage that is changed only lightly. Need an extended storage for long data retrieval  take key-value memory bank from memorising transformers sequences are stored in memory bank as key and value top-k most relevant ones are retrieved by kNN most relevant sequences are expanded and processed by    Q - what tasks really need this except lifelong learning? - how and what to write to such memory?    ']\n",
      "\n",
      "\n",
      "Cluster 3\n",
      "['02-08-22 22:37     вкус у человека может быть в разном: в одежде, музыке, в еде, в жизни.  если моду можно определить как тенденцию в чем-то, общепризнанный набор закономерностей, то вкус - нечто иное.  можно определить вкус как отличие, характерную особенность, выдающее именно данного человека. хотя тогда что если человек просто одевается всегда одинаково. можно ли сказать, что у него есть вкус в одежде?  стоит добавить, что определяющее вкус отличие должно иметь какую-то ценность для самого человека, а самое главное - для других людей. нужна группа критиков (хотя бы один), чтобы определить, есть ли у человека вкус         '\n",
      " '20-07-22 19:00     Калигула - римский император, который потерял любимую. Пережив это потрясение, калигула осознает бесполезность власти, ограниченной правилами.  Цезарь решает использовать свою безграничную власть, чтобы изменить порядок вещей по-настоящему, бросив вызов законам природы, людям и богам.     Продолжается идея абсурда, заведомо проигранной борьбы без цели  К Калигуле приходят Сципион и Херея. отца первого Гай убил, второй хотел убить его самого. но после разговора они поневоле поддаются логике императора, который до абсурда подчиняет ей власть. так и читатель, услышав про приказ бить копьями воду, приходит на книгу повстречаться с дураком-Калигулой, но затягивается в водоворот логики, из которой никуда не выбраться.'\n",
      " '12:02      почему бы целью жизни не может быть проехать по дороге? приехать в город?   смотрел Малхолланд драйв Линча, просто смотрел на людей, виды, сюжет, как вдруг на сцене акапелла из клуба силенсио реальность фильма прорвалась, стены даже не разрушились а просто растворились, фильм стал объемным, вышел за рамки сюжета, актеров и смыслов, превратившись в одно ощущение. оно не требует интерпретации, понимания, просто существует вне времени и пространства, как объект культурного и личностного пространства. '\n",
      " '10:48    день начинается с отбоя в час ночи...  к сожалению, баланс значимости на работе завален, поэтому не хочется пушить начальство чтобы добиваться роста. не чувствую себя хорошим специалистом все ещё, поэтому даже само намерение кажется необоснованным.       интерпретация карт внимания   на квадратных уравнениях - что-то видно (https://docs.google.com/presentation/d/1jAQ2din3bKevLG0Wl-7Jy6YESdivH8RFD8ICHShcB6s/edit?usp=sharing) от отдельных карт внимания -> к статистическому анализу классический пробинг на головах attention - не очень эффективно  занулить карты внимания - эффективно для доказательства специализации занулить голову со специализацией и посмотреть, что страдает  применить маску внимания на всё кроме целевого паттерна. ухудшится ли скор? вообще занулить все элементы, в которых attention меньше 0.9 например. --||--   '\n",
      " '12:14     прокрастинация сплошная нельзя начинать день с ютуба как ни крути...  почему Денис К. не брал отпуск 5 лет?  должен ли я быть таким же и буду ли я успешным в противном случае?  $$ \\\\frac{x}{2} $$  забрали сегодня крыс у сестры Алены после двухнедельной разлуки. они так одичали и боятся, хотя Локи инстинктивно тянется ко мне, а Крис надулся как шар и агрится. обидна неблагодарность животного  вечером было такое убитое настроение, что совершенно невозможно не выпить, если не отвлечешься. печально как-то, хотя заканчиваешь все равно в одном и том же состоянии '\n",
      " '05-08-22 21:06     прогнозы погоды - WindGURU - magicseaweed.com  спот - Дахаб  самолет в Шарм-Эль-Шэйх ~ 40-50к туда-обратно, ~ 10 часов отель в среднем 4к ночь на букинге ( ! ) нет серфа, есть виндсерф   спот - ?  билеты в Мали - 60-70к туда-обратно,  ~ 20 часов ! до серф-спота надо добираться на водном транспорте  аренда досок ~ 20к ! не для новичков - высокие волны отели ~5к за ночь   спот - Arugam Bay  билеты 50-60к, 15 часов    спот Агадир  билеты в Касабланку 60-70к, 20 часов   спот - Пхукет билеты ~70-80к, 20 часов   спот - Cloud Nine, Siargao Island  Лететь 70к только время в воздухе 14 часов, забей вообще :)        '\n",
      " ' сел вот минут 40 назад помедитировать и решил включить музычку для медитации, хотя обычно так не делаю. вот, и чето сижу, ещё после спорта, как-то глубоко провалился и вдруг откуда-то возникло чувство очень сильное, сейчас попробую описать. сначала просто вспомнил, каково было играть в ведьмака недели напролет, аж до слез пробрало, потом подмешалась ещё Евпатория какая-то, моменты из вуза, как с аленой съехались, ещё какие-то трипы сильные, чето из детства, вообще воспоминания так накатили я аж офигел. и сильнейшее осознание, что оно все было настолько уникальное и никогдаа не повторится, и оно остаётся только у меня в памяти и вот-вот исчезнет. и этим даже не поделиться, вот ты играл в ведьмака но эмоции то не те ваще, период жизни другой там, вообще ты другой чел. и если самому попытаться воспроизвести это, то будет тоже не то. какое-то одиночество тотальное непередаваемое'\n",
      " ' вы задумывались, почему все начинают бухать и торчебосить примерно в одном возрасте? это страх. 17-летний страх того, что острота ощущений детства уходит, притупляя вкус к жизни. кризис 22-25 лет состоит в переживании осознания никчемности остатка того, что тебе отведено ощутить. ничто не имеет \"смысла\", говорить об общем смысле может только фанатик. какой вот \"смысл\" заново переживать те же ощущения, что уже были, но с меньшей силой и осознанием всех их побочек?   понимание смысла у каждого извращенно и имеет больше отношения к биохимии, чем к истине)'\n",
      " ' Куда делось всепоглощающее чувство удовлетворения бытием вообще?  Проводил Алёну в аэропорт, она возвращалась из Сириуса в Москву на день раньше меня. Осталось совсем немного времени наедине с собой, пока дошёл до пляжа, где сидели все остальные. Медленно шёл по вечернему сириусу и вдруг вспомнил чувство моря, которое зехлёстывало с головой в крыму в годы евпатории. Более того, в этом ощущении ощущалась какая-то полнота, понимание что всё происходит именно так, как и должно.   Сейчас ведь действительно всё идёт очень правильно: работа ценна и близка к идеалу, у меня есть уважающие меня друзья и любящая женщина. Мне не надо трудиться, чтобы получать больше благ, чем я мог себе представить.   Однако чувство заполненности какое-то не совсем честное. Как будто есть потерянный кусочек, немного это всё не я. Вот в крыму тогда был я на 90%, а сейчас я на 60%. Куда же я делся?? Отчасти, может, на тех тусах остался. Хотя сейчас, какая бы туса ни была, всё равно остаток меня не восстанавливается, просто маскируется его отсутствие.  И эту пропавшую часть хз как описать.. Вроде и не творчество само по себе, не интеллект и не благополучие там по жизни. Может, дело в уверенности и стабильности вот этой жизни, которой я стал жить? В любой ситуации, даже в пещерах на грани отчаяния или на черной пирамиде над горной пропастью я остаюсь в контроле над ситуацией. Этот контроль как зараза, от него никуда не денешься. Ситуации без контроля всё опаснее либо неприятнее, а эффект куда-то рассеивается и не остается со мной.']\n",
      "\n",
      "\n",
      "Cluster 4\n",
      "['25-07-22 10:53     почитать Салавата Юлаева послушать народную музыку и сделать под нее видос напиться кумыса плотно   не возможен  без критика, он через него определяется   если произведение не трогает ни одного человека, это ?   видео нервы батарея, rhcp вставить    поездка получилась очень крутой. природа просто восхитительна, напоминает картинки Швейцарии.  !  встречи с родственниками наводят на размышления о себе, своих истоках и характере. нужно ли заботиться о смерти и так готовиться? это кажется одновременно и монументальным и ничтожным так стараться оставить о себе память. хотя наверняка сильно захочется          '\n",
      " '20-07-22 19:08    Роман о бизнесе и руководителях. По-настоящему достойно вести корпорацию может вести только лидер, который не боится принимать решения и понимает ценность работы.     Несколько жаль, что у меня в жизни есть что-то ещё кроме работы. '\n",
      " ' criteria 1) mft+ sized sensor? 2) has zoom or 16mp+ 3) fits in pocket or a small bag 4) attractive image 5) has raw 6) somewhat fast   - rx100m4+ Has really average photo quality but outstanding video  - a6300 Nice pics and vids but ugly (???) kit lens '\n",
      " '1) AI auto-corrector 2) fasten comparison and selection \\twhat tools do pros use?? \\t'\n",
      " '22:25     баскетбол имеет в себе что-то от барабанов, только движения физически более сложные. ритм ведения мяча и владение им вводят в своеобразный транс. бросок в кольцо - вывод из транса, награждающий или наказывающий. хочется научиться, похоже на  вообще, многие занятия похожи друг на друга, если ими глубоко заниматься. узнав ритмы баскетбола можно понять футбол, командную игру, барабаны итд. #life '\n",
      " ' 1. task loss at each segment \\t- do not forget the task \\t- misleading if no way to determine answer from segment  2. memory loss \\t- helps if the task can be formalised with loss \\t- acts as memory regularization       '\n",
      " \"03-08-22 18:08     I don't fully remember the idea of MB  Supposedly, there is some kind of task with the target objective. A model somehow solves it based on a KG But KG is incomplete and we can expand it using link prediction.  However it's not really , where real links are predicted    \"\n",
      " ' у рационального решения всегда есть цель, конечная точка. невозможно установить окончательную цель только рационально, иначе у этого решения есть ещё более высокая цель. поэтому самая высшая цель всегда от чувств'\n",
      " ' согласно ОСР, реально то, что инвариантно относительно преобразований. тогда если взять бога и преобразование в виде переноса между религиями и областями знаний, можно ли сказать, что бог существует по ОСР?']\n",
      "\n",
      "\n"
     ]
    }
   ],
   "source": [
    "for c in np.unique(note_clusters):\n",
    "    group = notes[note_clusters == c]\n",
    "    print(f'Cluster {c}\\n{group}\\n\\n')"
   ]
  }
 ],
 "metadata": {
  "kernelspec": {
   "display_name": "Python 3.9.0 ('cudaenv')",
   "language": "python",
   "name": "python3"
  },
  "language_info": {
   "codemirror_mode": {
    "name": "ipython",
    "version": 3
   },
   "file_extension": ".py",
   "mimetype": "text/x-python",
   "name": "python",
   "nbconvert_exporter": "python",
   "pygments_lexer": "ipython3",
   "version": "3.9.0"
  },
  "orig_nbformat": 4,
  "vscode": {
   "interpreter": {
    "hash": "c13243d513f3ec5f72a4e7429086ed10f2270caad452cf1f965679cad914ac74"
   }
  }
 },
 "nbformat": 4,
 "nbformat_minor": 2
}
